{
 "cells": [
  {
   "cell_type": "markdown",
   "metadata": {
    "id": "aAjb_hDyTKQh"
   },
   "source": [
    "# Tic Tac Toe Game \n",
    "##### Scratch Building\n",
    "##### No GUI Required "
   ]
  },
  {
   "cell_type": "markdown",
   "metadata": {
    "id": "NG1KZg4sTKQj"
   },
   "source": [
    "#### Some suggested tools before you get started:\n",
    "To take input from a user:\n",
    "\n",
    "    player1 = input(\"Please pick a marker 'X' or 'O'\")\n",
    "    \n",
    "Note that input() takes in a string. If you need an integer value, use\n",
    "\n",
    "    position = int(input('Please enter a number'))\n",
    "    \n",
    "<br>To clear the screen between moves:\n",
    "\n",
    "    from IPython.display import clear_output\n",
    "    clear_output()\n",
    "    \n",
    "Note that clear_output() will only work in jupyter. To clear the screen in other IDEs, consider:\n",
    "\n",
    "    print('\\n'*100)\n",
    "    \n",
    "This scrolls the previous board up out of view. Now on to the program!"
   ]
  },
  {
   "cell_type": "markdown",
   "metadata": {
    "id": "eq31aKoKTKQk"
   },
   "source": [
    "**Step 1: Write a function that can print out a board. Set up your board as a list, where each index 1-9 corresponds with a number on a number pad, so you get a 3 by 3 board representation.**"
   ]
  },
  {
   "cell_type": "code",
   "execution_count": 1,
   "metadata": {
    "id": "v6oZEXZXTKQl"
   },
   "outputs": [],
   "source": [
    "from IPython.display import clear_output\n",
    "\n",
    "def display_board(board):\n",
    "    print (board[0],'|',board[1],'|',board[2])\n",
    "    print('____________')\n",
    "    print (board[3],'|',board[4],'|',board[5])\n",
    "    print('____________')\n",
    "    print (board[6],'|',board[7],'|',board[8])\n",
    "    print('____________')"
   ]
  },
  {
   "cell_type": "markdown",
   "metadata": {
    "id": "YE-nz_ETTKQo"
   },
   "source": [
    "**TEST Step 1:** run your function on a test version of the board list, and make adjustments as necessary"
   ]
  },
  {
   "cell_type": "code",
   "execution_count": 2,
   "metadata": {
    "colab": {
     "base_uri": "https://localhost:8080/",
     "height": 121
    },
    "id": "4iQ9D-u5TKQp",
    "outputId": "59ff7cb4-7211-4d99-f8bf-2ca4167db697"
   },
   "outputs": [
    {
     "name": "stdout",
     "output_type": "stream",
     "text": [
      "# | # | #\n",
      "____________\n",
      "# | # | #\n",
      "____________\n",
      "# | # | #\n",
      "____________\n"
     ]
    }
   ],
   "source": [
    "test_board = ['#','#','#','#','#','#','#','#','#']\n",
    "display_board(test_board)"
   ]
  },
  {
   "cell_type": "markdown",
   "metadata": {
    "id": "WxeUw0FhTKQr"
   },
   "source": [
    "\n",
    "**Step 2: Write a function that can take in a player input and assign their marker as 'X' or 'O'. Think about using *while* loops to continually ask until you get a correct answer.**"
   ]
  },
  {
   "cell_type": "code",
   "execution_count": 3,
   "metadata": {
    "id": "MG0XC4aXTKQs"
   },
   "outputs": [],
   "source": [
    "def player_input():\n",
    "    \n",
    "    mark = input(\"Please pick a marker 'X' or 'O'\")\n",
    "    mark=mark.lower()\n",
    "\n",
    "    while not(mark==\"x\" or mark==\"o\"):\n",
    "        mark = input(\"Please pick a marker 'X' or 'O'\")\n",
    "        mark.lower\n",
    "    \n",
    "    if mark == \"x\":\n",
    "        return (\"x\",\"o\")\n",
    "    else:\n",
    "        return (\"o\",\"x\")\n",
    "    "
   ]
  },
  {
   "cell_type": "markdown",
   "metadata": {
    "id": "6fVimbgzTKQu"
   },
   "source": [
    "**TEST Step 2:** run the function to make sure it returns the desired output"
   ]
  },
  {
   "cell_type": "code",
   "execution_count": 4,
   "metadata": {
    "id": "PJSO5QX1TKQu"
   },
   "outputs": [
    {
     "data": {
      "text/plain": [
       "'player_input()'"
      ]
     },
     "execution_count": 4,
     "metadata": {},
     "output_type": "execute_result"
    }
   ],
   "source": [
    "\"\"\"player_input()\"\"\""
   ]
  },
  {
   "cell_type": "markdown",
   "metadata": {
    "id": "aQN1q9gGTKQw"
   },
   "source": [
    "**Step 3: Write a function that takes in the board list object, a marker ('X' or 'O'), and a desired position (number 1-9) and assigns it to the board.**"
   ]
  },
  {
   "cell_type": "code",
   "execution_count": 5,
   "metadata": {
    "id": "drK45WDaTKQx"
   },
   "outputs": [],
   "source": [
    "def place_marker(board, marker, position):\n",
    "    position-=1\n",
    "    board[position]=marker\n",
    "    return board"
   ]
  },
  {
   "cell_type": "markdown",
   "metadata": {
    "id": "gapk660ATKQz"
   },
   "source": [
    "**TEST Step 3:** run the place marker function using test parameters and display the modified board"
   ]
  },
  {
   "cell_type": "code",
   "execution_count": 6,
   "metadata": {
    "id": "4vIDyBjrTKQ0"
   },
   "outputs": [
    {
     "data": {
      "text/plain": [
       "\"place_marker(test_board,'o',8)\\ndisplay_board(test_board)\""
      ]
     },
     "execution_count": 6,
     "metadata": {},
     "output_type": "execute_result"
    }
   ],
   "source": [
    "\"\"\"place_marker(test_board,'o',8)\n",
    "display_board(test_board)\"\"\""
   ]
  },
  {
   "cell_type": "markdown",
   "metadata": {
    "id": "vRuvrYsVTKQ2"
   },
   "source": [
    "**Step 4: Write a function that takes in a board and a mark (X or O) and then checks to see if that mark has won. **"
   ]
  },
  {
   "cell_type": "code",
   "execution_count": 7,
   "metadata": {
    "id": "Zl_L_t1xTKQ2"
   },
   "outputs": [],
   "source": [
    "def win_check(board, mark):\n",
    "    \n",
    "    if( ((board[0]== mark and board[1]== mark and board[2]== mark)) or \n",
    "        ((board[3]== mark and board[4]== mark and board[5]== mark)) or \n",
    "        ((board[6]== mark and board[7]== mark and board[8]== mark)) or \n",
    "        ((board[0]== mark and board[3]== mark and board[6]== mark)) or \n",
    "        ((board[1]== mark and board[4]== mark and board[7]== mark)) or \n",
    "        ((board[2]== mark and board[5]== mark and board[8]== mark)) or \n",
    "        ((board[0]== mark and board[4]== mark and board[8]== mark)) or \n",
    "        ((board[2]== mark and board[4]== mark and board[6]== mark)) ):\n",
    "         return True\n",
    "    else:\n",
    "        return False\n",
    "        "
   ]
  },
  {
   "cell_type": "markdown",
   "metadata": {
    "id": "D9tY6vCHTKQ4"
   },
   "source": [
    "**TEST Step 4:** run the win_check function against our test_board - it should return True"
   ]
  },
  {
   "cell_type": "code",
   "execution_count": 8,
   "metadata": {
    "id": "W_rBIIOCTKQ5"
   },
   "outputs": [
    {
     "data": {
      "text/plain": [
       "\"win_check(test_board,'o')\""
      ]
     },
     "execution_count": 8,
     "metadata": {},
     "output_type": "execute_result"
    }
   ],
   "source": [
    "\"\"\"win_check(test_board,'o')\"\"\""
   ]
  },
  {
   "cell_type": "markdown",
   "metadata": {
    "id": "ROj56ItpTKQ7"
   },
   "source": [
    "**Step 5: Write a function that uses the random module to randomly decide which player goes first. You may want to lookup random.randint() Return a string of which player went first.**"
   ]
  },
  {
   "cell_type": "code",
   "execution_count": 9,
   "metadata": {
    "id": "NMgrAjU3TKQ7"
   },
   "outputs": [],
   "source": [
    "import random\n",
    "from random import randint\n",
    "def choose_first():\n",
    "    y=randint(0,1)\n",
    "    if y == 0:\n",
    "        return \"Player 1\"\n",
    "    else:        \n",
    "        return \"Player 2\"   \n",
    "    "
   ]
  },
  {
   "cell_type": "markdown",
   "metadata": {
    "id": "7H1uXKU-TKQ9"
   },
   "source": [
    "**Step 6: Write a function that returns a boolean indicating whether a space on the board is freely available.**"
   ]
  },
  {
   "cell_type": "code",
   "execution_count": 10,
   "metadata": {
    "id": "i0rtv4b3TKQ-"
   },
   "outputs": [],
   "source": [
    "def space_check(board, position):\n",
    "    if (isinstance(position, str)):\n",
    "        return False\n",
    "    else:\n",
    "        position-=1\n",
    "        if (((position >= 0) and  (position <= 8)) and (board[position] == '#')):\n",
    "            return True\n",
    "        else:\n",
    "            return False"
   ]
  },
  {
   "cell_type": "markdown",
   "metadata": {
    "id": "TKfVJE_KTKRA"
   },
   "source": [
    "**Step 7: Write a function that checks if the board is full and returns a boolean value. True if full, False otherwise.**"
   ]
  },
  {
   "cell_type": "code",
   "execution_count": 11,
   "metadata": {
    "id": "Vsa0TroYTKRB"
   },
   "outputs": [],
   "source": [
    "def full_board_check(board):\n",
    "    z=\"#\"\n",
    "    if z not in board:\n",
    "        return True\n",
    "    else:\n",
    "        return False"
   ]
  },
  {
   "cell_type": "markdown",
   "metadata": {
    "id": "ju-R3rRATKRD"
   },
   "source": [
    "**Step 8: Write a function that asks for a player's next position (as a number 1-9) and then uses the function from step 6 to check if it's a free position. If it is, then return the position for later use.**"
   ]
  },
  {
   "cell_type": "code",
   "execution_count": 12,
   "metadata": {
    "id": "zLusZVZETKRE"
   },
   "outputs": [],
   "source": [
    "def player_choice(board):\n",
    "    \n",
    "    input(\"Enter Position\") \n",
    "    if space_check:\n",
    "        print(\"ok\")\n",
    "    else:\n",
    "        return False"
   ]
  },
  {
   "cell_type": "markdown",
   "metadata": {
    "id": "E9ryWxTdTKRG"
   },
   "source": [
    "**Step 9: Write a function that asks the player if they want to play again and returns a boolean True if they do want to play again.**"
   ]
  },
  {
   "cell_type": "code",
   "execution_count": 13,
   "metadata": {
    "id": "1_Nt3ngsTKRG"
   },
   "outputs": [],
   "source": [
    "def replay():\n",
    "    \n",
    "    answer = input(\"Do you want to play again? Please enter Yes or No. \")\n",
    "    answer=answer.lower()\n",
    "    \n",
    "    if answer == 'yes':\n",
    "        print(\"Welcome to Tic Tac Toe!\")\n",
    "        return True\n",
    "    elif answer == 'no':\n",
    "        print(\"Good bye\")\n",
    "        return False\n",
    "    else:\n",
    "        input(\"Please enter Yes or No. \")\n",
    "        return True"
   ]
  },
  {
   "cell_type": "markdown",
   "metadata": {
    "collapsed": true,
    "id": "gjLdHz0MTKRI"
   },
   "source": [
    "**Step 10: Here comes the hard part! Use while loops and the functions you've made to run the game!**"
   ]
  },
  {
   "cell_type": "code",
   "execution_count": 14,
   "metadata": {
    "id": "84vKO9k9TKRJ"
   },
   "outputs": [
    {
     "name": "stdout",
     "output_type": "stream",
     "text": [
      "Welcome to Tic Tac Toe!\n",
      "# | # | #\n",
      "____________\n",
      "# | # | #\n",
      "____________\n",
      "# | # | #\n",
      "____________\n",
      "Please pick a marker 'X' or 'O'O\n",
      "Player 2 will go first.\n",
      "# | # | #\n",
      "____________\n",
      "# | # | #\n",
      "____________\n",
      "# | # | #\n",
      "____________\n",
      "Please enter number from 1 to 9: 1\n",
      "x | # | #\n",
      "____________\n",
      "# | # | #\n",
      "____________\n",
      "# | # | #\n",
      "____________\n",
      "Please enter number from 1 to 9: 2\n",
      "x | o | #\n",
      "____________\n",
      "# | # | #\n",
      "____________\n",
      "# | # | #\n",
      "____________\n",
      "Please enter number from 1 to 9: 3\n",
      "x | o | x\n",
      "____________\n",
      "# | # | #\n",
      "____________\n",
      "# | # | #\n",
      "____________\n",
      "Please enter number from 1 to 9: 4\n",
      "x | o | x\n",
      "____________\n",
      "o | # | #\n",
      "____________\n",
      "# | # | #\n",
      "____________\n",
      "Please enter number from 1 to 9: 5\n",
      "x | o | x\n",
      "____________\n",
      "o | x | #\n",
      "____________\n",
      "# | # | #\n",
      "____________\n",
      "Please enter number from 1 to 9: 6\n",
      "x | o | x\n",
      "____________\n",
      "o | x | o\n",
      "____________\n",
      "# | # | #\n",
      "____________\n",
      "Please enter number from 1 to 9: 7\n",
      "Congratulations. Player 2 has won!\n",
      "x | o | x\n",
      "____________\n",
      "o | x | o\n",
      "____________\n",
      "x | # | #\n",
      "____________\n",
      "Do you want to play again? Please enter Yes or No. 8\n",
      "Please enter Yes or No. YES\n",
      "# | # | #\n",
      "____________\n",
      "# | # | #\n",
      "____________\n",
      "# | # | #\n",
      "____________\n",
      "Please pick a marker 'X' or 'O'X\n",
      "Player 1 will go first.\n",
      "# | # | #\n",
      "____________\n",
      "# | # | #\n",
      "____________\n",
      "# | # | #\n",
      "____________\n",
      "Please enter number from 1 to 9: 1\n",
      "x | # | #\n",
      "____________\n",
      "# | # | #\n",
      "____________\n",
      "# | # | #\n",
      "____________\n",
      "Please enter number from 1 to 9: 2\n",
      "x | o | #\n",
      "____________\n",
      "# | # | #\n",
      "____________\n",
      "# | # | #\n",
      "____________\n",
      "Please enter number from 1 to 9: 3\n",
      "x | o | x\n",
      "____________\n",
      "# | # | #\n",
      "____________\n",
      "# | # | #\n",
      "____________\n",
      "Please enter number from 1 to 9: 4\n",
      "x | o | x\n",
      "____________\n",
      "o | # | #\n",
      "____________\n",
      "# | # | #\n",
      "____________\n",
      "Please enter number from 1 to 9: 6\n",
      "x | o | x\n",
      "____________\n",
      "o | # | x\n",
      "____________\n",
      "# | # | #\n",
      "____________\n",
      "Please enter number from 1 to 9: 7\n",
      "x | o | x\n",
      "____________\n",
      "o | # | x\n",
      "____________\n",
      "o | # | #\n",
      "____________\n",
      "Please enter number from 1 to 9: 5\n",
      "x | o | x\n",
      "____________\n",
      "o | x | x\n",
      "____________\n",
      "o | # | #\n",
      "____________\n",
      "Please enter number from 1 to 9: 8\n",
      "x | o | x\n",
      "____________\n",
      "o | x | x\n",
      "____________\n",
      "o | o | #\n",
      "____________\n",
      "Please enter number from 1 to 9: 9\n",
      "Congratulations. Player 1 has won!\n",
      "x | o | x\n",
      "____________\n",
      "o | x | x\n",
      "____________\n",
      "o | o | x\n",
      "____________\n",
      "Do you want to play again? Please enter Yes or No. NO\n",
      "Good bye\n"
     ]
    }
   ],
   "source": [
    "print('Welcome to Tic Tac Toe!')\n",
    "\n",
    "status=True \n",
    "while status: \n",
    "    # Reset the board\n",
    "    test_board = ['#','#','#','#','#','#','#','#','#']\n",
    "    display_board(test_board)\n",
    "    \n",
    "    # Choose Markers\n",
    "    marker1,marker2=player_input()\n",
    "    \n",
    "    # Who Starts First     \n",
    "    turn = choose_first()\n",
    "    print(turn + ' will go first.')\n",
    "    \n",
    "    \n",
    "    # Asking to Start or  End The Game   \n",
    "    while 1:\n",
    "        \n",
    "        if turn == \"Player 1\":\n",
    "            # Player1's turn.\n",
    "            mark=marker1\n",
    "\n",
    "            # Display Board \n",
    "            display_board(test_board)\n",
    "            count=True\n",
    "            normal=\"Please enter number from 1 to 9: \"\n",
    "                      \n",
    "\n",
    "            # Take His Action\n",
    "            while count:\n",
    "                try:\n",
    "                    pos=int(input(normal))\n",
    "                except ValueError:\n",
    "                    continue\n",
    "                \n",
    "\n",
    "                if space_check(test_board,pos):\n",
    "                    place_marker(test_board,mark,pos)\n",
    "                    count=False\n",
    "                else:\n",
    "                    count=True\n",
    "                    normal= \"Please change your position and enter number from 1 to 9:\"\n",
    "\n",
    "\n",
    "            # Did he Win\n",
    "            if  win_check(test_board,mark):\n",
    "                print('Congratulations. Player 1 has won!')\n",
    "                display_board(test_board)\n",
    "                break\n",
    "\n",
    "            else:\n",
    "                if full_board_check(test_board) :\n",
    "                    print('The game is a draw!')\n",
    "                    break\n",
    "                else:\n",
    "                    turn = 'Player 2'\n",
    "\n",
    "        else:\n",
    "            # Player2's turn.            \n",
    "            mark2=marker2         \n",
    "            \n",
    "            # Display Board \n",
    "            display_board(test_board)\n",
    "            count=True            \n",
    "            normal=\"Please enter number from 1 to 9: \"           \n",
    "\n",
    "            # Take His Action\n",
    "            while count:\n",
    "                try:\n",
    "                    pos=int(input(normal))\n",
    "                except ValueError:\n",
    "                    continue                  \n",
    "                    \n",
    "                if space_check(test_board,pos):\n",
    "                    place_marker(test_board,mark2,pos)\n",
    "                    count=False\n",
    "                else:\n",
    "                    count=True\n",
    "                    normal=\"Please change your position and enter number from 1 to 9: \"\n",
    "\n",
    "            # Did he Win\n",
    "            if  win_check(test_board,mark2): \n",
    "                print('Congratulations. Player 2 has won!')\n",
    "                display_board(test_board)\n",
    "                break\n",
    "\n",
    "            else:\n",
    "                if full_board_check(test_board) :\n",
    "                    print('The game is a draw!')\n",
    "                    break\n",
    "                else: \n",
    "                    turn = 'Player 1'\n",
    "    \n",
    "    # Replay ?\n",
    "    if replay():\n",
    "        status=True\n",
    "    else:\n",
    "        status=False\n",
    "        #break"
   ]
  }
 ],
 "metadata": {
  "colab": {
   "name": "TicTacToe.ipynb",
   "provenance": []
  },
  "kernelspec": {
   "display_name": "Python 3",
   "language": "python",
   "name": "python3"
  },
  "language_info": {
   "codemirror_mode": {
    "name": "ipython",
    "version": 3
   },
   "file_extension": ".py",
   "mimetype": "text/x-python",
   "name": "python",
   "nbconvert_exporter": "python",
   "pygments_lexer": "ipython3",
   "version": "3.8.5"
  }
 },
 "nbformat": 4,
 "nbformat_minor": 1
}
