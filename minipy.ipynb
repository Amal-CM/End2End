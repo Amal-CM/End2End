{
 "cells": [
  {
   "cell_type": "code",
   "execution_count": null,
   "metadata": {},
   "outputs": [],
   "source": [
    "%%writefile mini.py\n",
    "\n",
    "def find_ch(string , ch):\n",
    "\n",
    "    ind= -1\n",
    "    lst=[]\n",
    "    for i, letter in enumerate(string): \n",
    "        string=string[ind+1:]\n",
    "        ind=string.find(ch) \n",
    "        if lst == [] :\n",
    "            lst.append(ind)\n",
    "        elif lst[-1] != (1+ind+int(lst[-1])):\n",
    "            lst.append(1+ind+int(lst[-1])) \n",
    "    return lst\n",
    "\n",
    "\n",
    "\n",
    "def my_split(st,ch):\n",
    "    newlst=[]\n",
    "    x=0\n",
    "    fndlst=find_ch(st,ch)\n",
    "    while x<len(fndlst):\n",
    "        findex=st[fndlst[x]+1:]\n",
    "        if fndlst[0] !=0:        \n",
    "            first=st[:fndlst[0]]\n",
    "            if first != '':\n",
    "                newlst.append(first)    \n",
    "        if ch in findex:\n",
    "            fndlst2=find_ch(findex,ch)\n",
    "            scond=findex[:fndlst2[0]]\n",
    "            if scond != '':\n",
    "                newlst.append(scond)\n",
    "        else:\n",
    "            if findex != '':\n",
    "                newlst.append(findex)\n",
    "\n",
    "        x+=1 \n",
    "    return newlst"
   ]
  }
 ],
 "metadata": {
  "kernelspec": {
   "display_name": "Python 3",
   "language": "python",
   "name": "python3"
  },
  "language_info": {
   "codemirror_mode": {
    "name": "ipython",
    "version": 3
   },
   "file_extension": ".py",
   "mimetype": "text/x-python",
   "name": "python",
   "nbconvert_exporter": "python",
   "pygments_lexer": "ipython3",
   "version": "3.8.5"
  }
 },
 "nbformat": 4,
 "nbformat_minor": 4
}
